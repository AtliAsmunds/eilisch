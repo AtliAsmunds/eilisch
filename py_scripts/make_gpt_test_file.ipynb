{
 "cells": [
  {
   "cell_type": "code",
   "execution_count": 1,
   "metadata": {},
   "outputs": [],
   "source": [
    "import pandas as pd\n",
    "from pathlib import Path\n",
    "\n",
    "file = Path(\"../data/sf_sub_clause/new_sf_sub_clause.tsv\")\n",
    "\n",
    "df = pd.read_csv(file, sep=\"\\t\")\n",
    "# Filter rows based on column: 'speech_word_count'b"
   ]
  },
  {
   "cell_type": "code",
   "execution_count": 2,
   "metadata": {},
   "outputs": [],
   "source": [
    "thorgerdur = df[df[\"person\"] == \"THorgerdurGunnarsdottir\"]"
   ]
  },
  {
   "cell_type": "code",
   "execution_count": 3,
   "metadata": {},
   "outputs": [
    {
     "name": "stdout",
     "output_type": "stream",
     "text": [
      "2000 2021\n"
     ]
    }
   ],
   "source": [
    "max_year = thorgerdur[\"year\"].max()\n",
    "min_year = thorgerdur[\"year\"].min()\n",
    "print(min_year, max_year)"
   ]
  },
  {
   "cell_type": "code",
   "execution_count": 4,
   "metadata": {},
   "outputs": [],
   "source": [
    "first_year_speeches = thorgerdur[thorgerdur[\"year\"] == min_year][\"speech_id\"].drop_duplicates().head(25)\n",
    "latest_year_speeches = thorgerdur[thorgerdur[\"year\"] == max_year][\"speech_id\"].drop_duplicates().head(25)\n"
   ]
  },
  {
   "cell_type": "code",
   "execution_count": 5,
   "metadata": {},
   "outputs": [],
   "source": [
    "filtered = thorgerdur[thorgerdur['speech_id'].isin(pd.concat([first_year_speeches, latest_year_speeches]))]"
   ]
  },
  {
   "cell_type": "code",
   "execution_count": 6,
   "metadata": {},
   "outputs": [],
   "source": [
    "from pathlib import Path\n",
    "\n",
    "speech_texts = Path(\"../data/formality_test\")\n",
    "person = \"THorgerdurGunnarsdottir\""
   ]
  },
  {
   "cell_type": "code",
   "execution_count": 23,
   "metadata": {},
   "outputs": [],
   "source": [
    "texts = []\n",
    "\n",
    "speech_ids = filtered[\"speech_id\"].unique()\n",
    "\n",
    "for filename in speech_ids:\n",
    "    file = speech_texts / f\"{person}_{filename}.txt\"\n",
    "\n",
    "    with open(file, \"r\") as f:\n",
    "        texts.append(f.read())\n"
   ]
  },
  {
   "cell_type": "code",
   "execution_count": 66,
   "metadata": {},
   "outputs": [],
   "source": [
    "from gpt_classification import get_scores"
   ]
  },
  {
   "cell_type": "code",
   "execution_count": 67,
   "metadata": {},
   "outputs": [],
   "source": [
    "responses = get_scores(texts)"
   ]
  },
  {
   "cell_type": "code",
   "execution_count": 68,
   "metadata": {},
   "outputs": [],
   "source": [
    "scores = list(zip(speech_ids, responses))"
   ]
  },
  {
   "cell_type": "code",
   "execution_count": 69,
   "metadata": {},
   "outputs": [],
   "source": [
    "thorgerdur_no_dupl = thorgerdur.drop_duplicates(subset=\"speech_id\", keep=\"first\")"
   ]
  },
  {
   "cell_type": "code",
   "execution_count": 70,
   "metadata": {},
   "outputs": [],
   "source": [
    "results = []\n",
    "for file, score in scores:\n",
    "    row = thorgerdur_no_dupl[thorgerdur_no_dupl[\"speech_id\"] == file]\n",
    "    lex_score = row[\"lex_score\"].values[0]\n",
    "    year = row[\"year\"]\n",
    "    results.append([file, year, float(score), lex_score])"
   ]
  },
  {
   "cell_type": "code",
   "execution_count": 71,
   "metadata": {},
   "outputs": [],
   "source": [
    "df = pd.DataFrame(results, columns=[\"file\",\"year\",\"gpt_score\", \"mattr_score\"])"
   ]
  },
  {
   "cell_type": "code",
   "execution_count": 72,
   "metadata": {},
   "outputs": [],
   "source": [
    "save_path = Path(\"../data/gpt_scores/test_1_en.tsv\").resolve()\n",
    "\n",
    "if not save_path.exists():\n",
    "    df.to_csv(save_path, sep=\"\\t\", index=False)"
   ]
  },
  {
   "cell_type": "code",
   "execution_count": 73,
   "metadata": {},
   "outputs": [
    {
     "data": {
      "image/png": "[encoded data removed]",
      "text/plain": [
       "<Figure size 800x500 with 1 Axes>"
      ]
     },
     "metadata": {},
     "output_type": "display_data"
    }
   ],
   "source": [
    "import matplotlib.pyplot as plt\n",
    "\n",
    "plt.figure(figsize=(8, 5))\n",
    "plt.scatter(df['gpt_score'], df['mattr_score'], color=\"blue\", label='Speech')\n",
    "plt.title('Scatterplot of speech scores')\n",
    "plt.xlabel('GPT Score')\n",
    "plt.ylabel('MATTR Score')\n",
    "plt.legend()\n",
    "plt.grid(True)\n",
    "plt.show()"
   ]
  },
  {
   "cell_type": "code",
   "execution_count": 92,
   "metadata": {},
   "outputs": [
    {
     "data": {
      "text/plain": [
       "np.float64(-0.4956536821822147)"
      ]
     },
     "execution_count": 92,
     "metadata": {},
     "output_type": "execute_result"
    }
   ],
   "source": [
    "import scipy.stats\n",
    "\n",
    "linear = scipy.stats.linregress(df['mattr_score'], df[\"gpt_score\"])\n",
    "linear.rvalue"
   ]
  },
  {
   "cell_type": "code",
   "execution_count": 93,
   "metadata": {},
   "outputs": [
    {
     "name": "stdout",
     "output_type": "stream",
     "text": [
      "Score for test_1_is\n",
      "R-score: -0.5558325260784723\n",
      "P-score: 2.7839235611077925e-05\n",
      "\n",
      "Score for test_2_is\n",
      "R-score: -0.43965487008335374\n",
      "P-score: 0.0014002720432190702\n",
      "\n",
      "Score for test_1_en\n",
      "R-score: -0.4956536821822147\n",
      "P-score: 0.00025220647044517386\n",
      "\n"
     ]
    }
   ],
   "source": [
    "compare = []\n",
    "names = []\n",
    "for file in Path(\"../data/gpt_scores\").iterdir():\n",
    "    names.append(file.stem)\n",
    "    df_1 = pd.read_csv(file, sep=\"\\t\")\n",
    "    linear = scipy.stats.linregress(df_1[\"mattr_score\"], df_1[\"gpt_score\"])\n",
    "    print(\"Score for\", file.stem)\n",
    "    print(\"R-score:\", linear.rvalue)\n",
    "    print(\"P-score:\", linear.pvalue)\n",
    "    print()\n",
    "    gpt_score = df_1[\"gpt_score\"].to_list()\n",
    "    compare.append(gpt_score)"
   ]
  },
  {
   "cell_type": "code",
   "execution_count": 86,
   "metadata": {},
   "outputs": [],
   "source": [
    "import numpy as np\n",
    "\n",
    "gpt_tests = pd.DataFrame(np.array(compare).T, columns=names)"
   ]
  },
  {
   "cell_type": "code",
   "execution_count": null,
   "metadata": {},
   "outputs": [],
   "source": [
    "gpt_tests['diff_1_2'] = (gpt_tests[''])"
   ]
  }
 ],
 "metadata": {
  "kernelspec": {
   "display_name": "eilisch-_JKlGsFC-py3.12",
   "language": "python",
   "name": "python3"
  },
  "language_info": {
   "codemirror_mode": {
    "name": "ipython",
    "version": 3
   },
   "file_extension": ".py",
   "mimetype": "text/x-python",
   "name": "python",
   "nbconvert_exporter": "python",
   "pygments_lexer": "ipython3",
   "version": "3.12.7"
  }
 },
 "nbformat": 4,
 "nbformat_minor": 2
}
