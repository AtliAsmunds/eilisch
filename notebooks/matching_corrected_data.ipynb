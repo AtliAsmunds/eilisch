{
 "cells": [
  {
   "cell_type": "code",
   "execution_count": 1,
   "metadata": {},
   "outputs": [],
   "source": [
    "import pandas as pd\n",
    "from pathlib import Path\n",
    "from collections import defaultdict"
   ]
  },
  {
   "cell_type": "code",
   "execution_count": 2,
   "metadata": {},
   "outputs": [],
   "source": [
    "base_path = Path(\"/Users/atlisa/Projects/mal_og_taekni/eilisch\")\n",
    "data_path = base_path / \"parsed_data\"\n",
    "indiv_path = data_path / \"individuals\"\n",
    "corrected_path = base_path / \"corrected_mps\"\n",
    "matched_path = corrected_path / \"matched_data\"\n",
    "matched_path.mkdir(parents=True, exist_ok=True)"
   ]
  },
  {
   "cell_type": "code",
   "execution_count": null,
   "metadata": {},
   "outputs": [],
   "source": []
  },
  {
   "cell_type": "code",
   "execution_count": 3,
   "metadata": {},
   "outputs": [],
   "source": [
    "df = pd.read_csv(data_path / \"all_data.tsv\", sep=\"\\t\")"
   ]
  },
  {
   "cell_type": "code",
   "execution_count": 5,
   "metadata": {},
   "outputs": [
    {
     "data": {
      "text/plain": [
       "pandas.core.series.Series"
      ]
     },
     "execution_count": 5,
     "metadata": {},
     "output_type": "execute_result"
    }
   ],
   "source": [
    "type(df.iloc[1])"
   ]
  },
  {
   "cell_type": "code",
   "execution_count": 12,
   "metadata": {},
   "outputs": [],
   "source": [
    "columns = [7,8,9,10,15]\n",
    "names = [\"correction\", \"comment\", \"here\", \"text\", \"source\"]\n",
    "col_names = {old: new for old, new in zip(columns, names)}"
   ]
  },
  {
   "cell_type": "code",
   "execution_count": 13,
   "metadata": {},
   "outputs": [],
   "source": [
    "def get_corrections(corrected_mp, all_mp):\n",
    "    already_matched = defaultdict(list)\n",
    "    group = all_mp[all_mp['speech_source'].isin(corrected_mp['source'])]\n",
    "\n",
    "    new_data = {\n",
    "        \"correction\": [],\n",
    "        \"comment\": [],\n",
    "        \"here\": []\n",
    "    }\n",
    "\n",
    "    for _, row in group.iterrows():\n",
    "        source = row['speech_source']\n",
    "        rel_text = row['relevant_text']\n",
    "        matches = corrected_mp[corrected_mp['source'] == source]\n",
    "        label = comment = h = None\n",
    "        if matches.empty:\n",
    "            new_data['correction'].append(None)\n",
    "            new_data['comment'].append(None)\n",
    "            new_data['here'].append(None)\n",
    "            continue\n",
    "\n",
    "        if len(matches) > 1:\n",
    "            for i, (_, match) in enumerate(matches.iterrows()):\n",
    "                if (match['text'] == rel_text) and (i not in already_matched[source]):\n",
    "                    already_matched[source].append(i)\n",
    "                    label = match['correction']\n",
    "                    comment = match['comment']\n",
    "                    h = match['here']\n",
    "        elif matches['text'].values[0] == rel_text:\n",
    "            label = matches['correction'].values[0]\n",
    "            comment = matches['comment'].values[0]\n",
    "            h = matches['here'].values[0]\n",
    "\n",
    "        new_data['correction'].append(label)\n",
    "        new_data['comment'].append(comment)\n",
    "        new_data['here'].append(h)\n",
    "\n",
    "    return new_data"
   ]
  },
  {
   "cell_type": "code",
   "execution_count": 30,
   "metadata": {},
   "outputs": [
    {
     "name": "stdout",
     "output_type": "stream",
     "text": [
      "GunnarSveinsson\n",
      "\tNr. of corrections not in script data: 5\n",
      "\n",
      "GudlaugurTHordarson\n",
      "\tNr. of corrections not in script data: 38\n",
      "\n",
      "IngibjorgGisladottir\n",
      "\tNr. of corrections not in script data: 2\n",
      "\n",
      "THordisGylfadottir\n",
      "\tNr. of corrections not in script data: 6\n",
      "\n",
      "JohannaSigurdardottir\n",
      "\tNr. of corrections not in script data: 33\n",
      "\n",
      "AgustAgustsson\n",
      "\tNr. of corrections not in script data: 11\n",
      "\n",
      "SigridurAndersen\n",
      "\tNr. of corrections not in script data: 9\n",
      "\n",
      "BjarniBenediktsson1970\n",
      "\tNr. of corrections not in script data: 115\n",
      "\n",
      "GeirHaarde\n",
      "\tNr. of corrections not in script data: 3\n",
      "\n",
      "HelgiGunnarsson\n",
      "\tNr. of corrections not in script data: 20\n",
      "\n",
      "AslaugSigurbjornsdottir\n",
      "\tNr. of corrections not in script data: 4\n",
      "\n",
      "THorgerdurGunnarsdottir\n",
      "\tNr. of corrections not in script data: 30\n",
      "\n",
      "IngaSaeland\n",
      "\tNr. of corrections not in script data: 1\n",
      "\n",
      "SteingrimurSigfusson\n",
      "\tNr. of corrections not in script data: 96\n",
      "\n",
      "KatrinJakobsdottir\n",
      "\tNr. of corrections not in script data: 70\n",
      "\n",
      "MargretFrimannsdottir\n",
      "\tNr. of corrections not in script data: 1\n",
      "\n",
      "LogiEinarsson\n",
      "\tNr. of corrections not in script data: 3\n",
      "\n",
      "SvandisSvavarsdottir\n",
      "\tNr. of corrections not in script data: 22\n",
      "\n",
      "OssurSkarphedinsson\n",
      "\tNr. of corrections not in script data: 41\n",
      "\n"
     ]
    }
   ],
   "source": [
    "mp_dfs = {}\n",
    "DNF = [\"upptaka fannst ekki\", \"DNF\", \"ekki hægt að hlusta\"]\n",
    "for file in corrected_path.glob(\"*.tsv\"):\n",
    "    person = file.stem\n",
    "    mp_df = pd.read_csv(file, sep=\"\\t\", header=None)\n",
    "    mp_df = mp_df[columns].rename(columns=col_names)\n",
    "    condition = ~((mp_df['correction'].isna()) & (mp_df[\"comment\"].isna()))\n",
    "    all_mp = df[df['person'] == person]\n",
    "    mp_df = mp_df[condition]\n",
    "    mp_df['comment'] = mp_df['comment'].apply(lambda x: \"DNF\" if x in DNF else x)\n",
    "    mp_df['correction'] = mp_df.apply(lambda x: 'xxx' if x['comment'] == \"DNF\" else x['correction'], axis=1)\n",
    "    \n",
    "    filtered_mp = all_mp[all_mp['speech_source'].isin(mp_df['source'])].reset_index(drop=True)\n",
    "    mismatch = mp_df[~mp_df['source'].isin(all_mp['speech_source'])]\n",
    "    print(person)\n",
    "    print(\"\\tNr. of corrections not in script data:\", len(mismatch))\n",
    "    print()\n",
    "\n",
    "    matched_data = get_corrections(mp_df, filtered_mp)\n",
    "    matched_data_df = pd.DataFrame(matched_data)\n",
    "    concat_data = pd.concat([filtered_mp, matched_data_df], axis=1)\n",
    "    mp_dfs[person] = concat_data\n"
   ]
  },
  {
   "cell_type": "code",
   "execution_count": 33,
   "metadata": {},
   "outputs": [],
   "source": [
    "mp = mp_dfs['KatrinJakobsdottir']"
   ]
  },
  {
   "cell_type": "code",
   "execution_count": null,
   "metadata": {},
   "outputs": [],
   "source": []
  },
  {
   "cell_type": "code",
   "execution_count": 8,
   "metadata": {},
   "outputs": [],
   "source": [
    "for person, data in mp_dfs.items():\n",
    "    data.to_csv(matched_path / f\"{person}.tsv\", sep=\"\\t\")"
   ]
  },
  {
   "cell_type": "code",
   "execution_count": null,
   "metadata": {},
   "outputs": [],
   "source": []
  },
  {
   "cell_type": "code",
   "execution_count": 20,
   "metadata": {},
   "outputs": [],
   "source": []
  },
  {
   "cell_type": "code",
   "execution_count": null,
   "metadata": {},
   "outputs": [],
   "source": []
  }
 ],
 "metadata": {
  "kernelspec": {
   "display_name": "eilisch-_JKlGsFC-py3.12",
   "language": "python",
   "name": "python3"
  },
  "language_info": {
   "codemirror_mode": {
    "name": "ipython",
    "version": 3
   },
   "file_extension": ".py",
   "mimetype": "text/x-python",
   "name": "python",
   "nbconvert_exporter": "python",
   "pygments_lexer": "ipython3",
   "version": "3.12.5"
  }
 },
 "nbformat": 4,
 "nbformat_minor": 2
}
