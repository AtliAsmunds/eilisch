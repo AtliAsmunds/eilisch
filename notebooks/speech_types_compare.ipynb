{
 "cells": [
  {
   "cell_type": "code",
   "execution_count": 67,
   "metadata": {},
   "outputs": [],
   "source": [
    "import pandas as pd\n",
    "from pathlib import Path\n"
   ]
  },
  {
   "cell_type": "code",
   "execution_count": 68,
   "metadata": {},
   "outputs": [],
   "source": [
    "base_dir = Path(\"/Users/atlisa/Projects/mal_og_taekni/eilisch/\")\n",
    "og_file = 'raedutegund.csv'\n",
    "new_file = 'speech_types.tsv'"
   ]
  },
  {
   "cell_type": "code",
   "execution_count": 69,
   "metadata": {},
   "outputs": [],
   "source": [
    "headers = [\"speech_source\", \"speech_type\"]\n",
    "df_old = pd.read_csv(base_dir / og_file, sep=\"\\t\", header=None, names=headers)\n",
    "df_new = pd.read_csv(base_dir / new_file, sep=\"\\t\", header=None, names=headers)"
   ]
  },
  {
   "cell_type": "code",
   "execution_count": 70,
   "metadata": {},
   "outputs": [],
   "source": [
    "df_new['speech_source'] = df_new['speech_source'].str.removeprefix(\"https://www.\")"
   ]
  },
  {
   "cell_type": "code",
   "execution_count": 71,
   "metadata": {},
   "outputs": [
    {
     "data": {
      "text/plain": [
       "'99.99%'"
      ]
     },
     "execution_count": 71,
     "metadata": {},
     "output_type": "execute_result"
    }
   ],
   "source": [
    "merged_df = pd.merge(df_new, df_old, on='speech_source', suffixes=('_new', '_old'))\n",
    "f\"{len(merged_df) / len(df_old):.2%}\""
   ]
  },
  {
   "cell_type": "code",
   "execution_count": 76,
   "metadata": {},
   "outputs": [],
   "source": [
    "not_included = df_old[~df_old['speech_source'].isin(merged_df['speech_source'])]"
   ]
  },
  {
   "cell_type": "code",
   "execution_count": 72,
   "metadata": {},
   "outputs": [
    {
     "name": "stdout",
     "output_type": "stream",
     "text": [
      "96.96%\n"
     ]
    }
   ],
   "source": [
    "same = merged_df['speech_type_new'] == merged_df['speech_type_old']\n",
    "same_prec = float(same.sum() / same.count())\n",
    "print(f\"{same_prec:.2%}\")"
   ]
  },
  {
   "cell_type": "code",
   "execution_count": 73,
   "metadata": {},
   "outputs": [],
   "source": [
    "diff = merged_df[~same]"
   ]
  },
  {
   "cell_type": "code",
   "execution_count": 74,
   "metadata": {},
   "outputs": [],
   "source": [
    "not_in = df_old[~df_old['speech_source'].isin(merged_df['speech_source'])]"
   ]
  },
  {
   "cell_type": "code",
   "execution_count": 75,
   "metadata": {},
   "outputs": [
    {
     "data": {
      "text/plain": [
       "153950"
      ]
     },
     "execution_count": 75,
     "metadata": {},
     "output_type": "execute_result"
    }
   ],
   "source": [
    "len(df_old)"
   ]
  }
 ],
 "metadata": {
  "kernelspec": {
   "display_name": "eilisch-_JKlGsFC-py3.12",
   "language": "python",
   "name": "python3"
  },
  "language_info": {
   "codemirror_mode": {
    "name": "ipython",
    "version": 3
   },
   "file_extension": ".py",
   "mimetype": "text/x-python",
   "name": "python",
   "nbconvert_exporter": "python",
   "pygments_lexer": "ipython3",
   "version": "3.12.5"
  }
 },
 "nbformat": 4,
 "nbformat_minor": 2
}
