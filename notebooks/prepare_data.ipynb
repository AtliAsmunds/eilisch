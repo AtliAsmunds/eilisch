{
 "cells": [
  {
   "cell_type": "code",
   "execution_count": 4,
   "metadata": {},
   "outputs": [],
   "source": [
    "import pandas as pd\n",
    "from pathlib import Path"
   ]
  },
  {
   "cell_type": "code",
   "execution_count": 5,
   "metadata": {},
   "outputs": [],
   "source": [
    "data_dir = Path(\"/Users/atlisa/Projects/mal_og_taekni/eilisch/training_data\")\n",
    "training_data = data_dir / \"all_speech_types_training.tsv\""
   ]
  },
  {
   "cell_type": "code",
   "execution_count": 6,
   "metadata": {},
   "outputs": [
    {
     "data": {
      "text/html": [
       "<div>\n",
       "<style scoped>\n",
       "    .dataframe tbody tr th:only-of-type {\n",
       "        vertical-align: middle;\n",
       "    }\n",
       "\n",
       "    .dataframe tbody tr th {\n",
       "        vertical-align: top;\n",
       "    }\n",
       "\n",
       "    .dataframe thead th {\n",
       "        text-align: right;\n",
       "    }\n",
       "</style>\n",
       "<table border=\"1\" class=\"dataframe\">\n",
       "  <thead>\n",
       "    <tr style=\"text-align: right;\">\n",
       "      <th></th>\n",
       "      <th>text</th>\n",
       "      <th>type</th>\n",
       "    </tr>\n",
       "  </thead>\n",
       "  <tbody>\n",
       "    <tr>\n",
       "      <th>0</th>\n",
       "      <td>Nú flytur hæstv. forsætisráðherra stefnuræðu s...</td>\n",
       "      <td>ræða</td>\n",
       "    </tr>\n",
       "    <tr>\n",
       "      <th>1</th>\n",
       "      <td>Virðulegur forseti . Góðir landsmenn . Við hef...</td>\n",
       "      <td>ræða</td>\n",
       "    </tr>\n",
       "    <tr>\n",
       "      <th>2</th>\n",
       "      <td>Virðulegi forseti . Góðir Íslendingar . Við he...</td>\n",
       "      <td>ræða</td>\n",
       "    </tr>\n",
       "    <tr>\n",
       "      <th>3</th>\n",
       "      <td>Virðulegi forseti . Góðir landsmenn . Þegar vi...</td>\n",
       "      <td>ræða</td>\n",
       "    </tr>\n",
       "    <tr>\n",
       "      <th>4</th>\n",
       "      <td>Góðir Íslendingar . Ég veit ekki hversu oft ég...</td>\n",
       "      <td>ræða</td>\n",
       "    </tr>\n",
       "  </tbody>\n",
       "</table>\n",
       "</div>"
      ],
      "text/plain": [
       "                                                text  type\n",
       "0  Nú flytur hæstv. forsætisráðherra stefnuræðu s...  ræða\n",
       "1  Virðulegur forseti . Góðir landsmenn . Við hef...  ræða\n",
       "2  Virðulegi forseti . Góðir Íslendingar . Við he...  ræða\n",
       "3  Virðulegi forseti . Góðir landsmenn . Þegar vi...  ræða\n",
       "4  Góðir Íslendingar . Ég veit ekki hversu oft ég...  ræða"
      ]
     },
     "execution_count": 6,
     "metadata": {},
     "output_type": "execute_result"
    }
   ],
   "source": [
    "df = pd.read_csv(training_data, sep=\"\\t\")"
   ]
  },
  {
   "cell_type": "code",
   "execution_count": 7,
   "metadata": {},
   "outputs": [
    {
     "data": {
      "text/plain": [
       "array(['ræða', 'um atkvæðagreiðslu', 'grein fyrir atkvæði',\n",
       "       'óundirbúinn fyrirspurnatími', 'um fundarstjórn', 'andsvar',\n",
       "       'flutningsræða', 'svar', 'ber af sér sakir', 'none', 'útvarpsræða',\n",
       "       'jómfrúrræða', 'prent', 'málsh. um fundarstjórn'], dtype=object)"
      ]
     },
     "execution_count": 7,
     "metadata": {},
     "output_type": "execute_result"
    }
   ],
   "source": [
    "df['type'].unique()"
   ]
  },
  {
   "cell_type": "code",
   "execution_count": 9,
   "metadata": {},
   "outputs": [],
   "source": [
    "NOT_PREPARED = [\"um atkvæðagreiðslu\", \"grein fyrir atkvæði\", \"andsvar\", \"um fundarstjórn\", \"svar\", \"ber af sér sakir\"]\n",
    "PREPARED = [\"flutningsræða\", \"útvarpsræða\", \"jómfrúrræða\", \"prent\"]"
   ]
  },
  {
   "cell_type": "code",
   "execution_count": 10,
   "metadata": {},
   "outputs": [],
   "source": [
    "def sort_speech_types(s_type: str):\n",
    "    if s_type in NOT_PREPARED:\n",
    "        return \"not_prepared\"\n",
    "    elif s_type in PREPARED:\n",
    "        return \"prepared\"\n",
    "    return s_type"
   ]
  },
  {
   "cell_type": "code",
   "execution_count": 11,
   "metadata": {},
   "outputs": [],
   "source": [
    "df['new_type'] = df['type'].apply(sort_speech_types)"
   ]
  },
  {
   "cell_type": "code",
   "execution_count": 20,
   "metadata": {},
   "outputs": [
    {
     "data": {
      "text/plain": [
       "new_type\n",
       "ræða                           315756\n",
       "not_prepared                   192645\n",
       "prepared                        43826\n",
       "óundirbúinn fyrirspurnatími     15013\n",
       "málsh. um fundarstjórn             77\n",
       "none                                6\n",
       "Name: count, dtype: int64"
      ]
     },
     "execution_count": 20,
     "metadata": {},
     "output_type": "execute_result"
    }
   ],
   "source": [
    "df['new_type'].value_counts()"
   ]
  },
  {
   "cell_type": "code",
   "execution_count": null,
   "metadata": {},
   "outputs": [],
   "source": []
  },
  {
   "cell_type": "code",
   "execution_count": 23,
   "metadata": {},
   "outputs": [],
   "source": [
    "new_df = df[df['new_type'].isin([\"prepared\", \"not_prepared\"])][[\"text\", \"new_type\"]]"
   ]
  },
  {
   "cell_type": "code",
   "execution_count": 28,
   "metadata": {},
   "outputs": [],
   "source": [
    "new_df = new_df.dropna()"
   ]
  },
  {
   "cell_type": "code",
   "execution_count": 32,
   "metadata": {},
   "outputs": [],
   "source": [
    "new_df.to_csv(data_dir / \"training.tsv\", sep=\"\\t\", index=False)"
   ]
  },
  {
   "cell_type": "code",
   "execution_count": 30,
   "metadata": {},
   "outputs": [],
   "source": [
    "for_inference = df[df['type'] == \"ræða\"][[\"text\", \"type\"]].dropna()"
   ]
  },
  {
   "cell_type": "code",
   "execution_count": 31,
   "metadata": {},
   "outputs": [],
   "source": [
    "for_inference.to_csv(data_dir / \"for_inference.tsv\", sep=\"\\t\", index=False)"
   ]
  }
 ],
 "metadata": {
  "kernelspec": {
   "display_name": "eilisch-_JKlGsFC-py3.12",
   "language": "python",
   "name": "python3"
  },
  "language_info": {
   "codemirror_mode": {
    "name": "ipython",
    "version": 3
   },
   "file_extension": ".py",
   "mimetype": "text/x-python",
   "name": "python",
   "nbconvert_exporter": "python",
   "pygments_lexer": "ipython3",
   "version": "3.12.5"
  }
 },
 "nbformat": 4,
 "nbformat_minor": 2
}
